{
 "cells": [
  {
   "cell_type": "code",
   "execution_count": 1,
   "metadata": {},
   "outputs": [],
   "source": [
    "class Empty(Exception):\n",
    "    pass"
   ]
  },
  {
   "cell_type": "code",
   "execution_count": 2,
   "metadata": {},
   "outputs": [],
   "source": [
    "class Node:\n",
    "    def __init__(self, data):\n",
    "        self.data = data\n",
    "        self.next_node = None"
   ]
  },
  {
   "cell_type": "code",
   "execution_count": 35,
   "metadata": {},
   "outputs": [],
   "source": [
    "class Queue:\n",
    "    def __init__(self):\n",
    "        self.head = None\n",
    "        self.length = 0  # Not necassary, but helpful to keep track of the current length of stack\n",
    "    \n",
    "    def push(self, data):\n",
    "        \"\"\" Push data onto the top of the stack\"\"\"\n",
    "        self.length += 1\n",
    "        node = Node(data)\n",
    "        if not self.head:\n",
    "            self.head = node\n",
    "            return\n",
    "        node.next_node = self.head\n",
    "        self.head = node\n",
    "    \n",
    "    def pop(self):\n",
    "        \"\"\"Return and remove the current data at the top of the stack\"\"\"\n",
    "        if not self.head:  # for readability, could be replaced using the is_empty function. But in the thought process of writing a stack, pop was written before the is_empty was return\n",
    "            raise Empty('Stack is empty!')\n",
    "        self.length -= 1\n",
    "        data = self.head.data\n",
    "        self.head = self.head.next_node\n",
    "        return data\n",
    "    \n",
    "    def is_empty(self):\n",
    "        \"\"\"Check if stack is empty. Return if empty, False otherwise\"\"\"\n",
    "        return not self.head\n",
    "    \n",
    "    def __len__(self):\n",
    "        return self.length\n",
    "    \n",
    "    def __repr__(self):\n",
    "        \"\"\"Machine readable representation of the stack\"\"\"\n",
    "        data_list = []\n",
    "        current_node = self.head\n",
    "        while current_node:\n",
    "            data_list.append(current_node.data)\n",
    "            current_node = current_node.next_node\n",
    "        return \" \".join(str(item) for item in data_list)"
   ]
  },
  {
   "cell_type": "code",
   "execution_count": 36,
   "metadata": {},
   "outputs": [
    {
     "data": {
      "text/plain": [
       "7 5 3"
      ]
     },
     "execution_count": 36,
     "metadata": {},
     "output_type": "execute_result"
    }
   ],
   "source": [
    "q = Queue()\n",
    "q.push(3)\n",
    "q.push(5)\n",
    "q.push(7)\n",
    "q"
   ]
  },
  {
   "cell_type": "code",
   "execution_count": 37,
   "metadata": {},
   "outputs": [
    {
     "name": "stdout",
     "output_type": "stream",
     "text": [
      "True\n",
      "False\n"
     ]
    }
   ],
   "source": [
    "q = Queue()\n",
    "print(q.is_empty())\n",
    "q.push(3)\n",
    "print(q.is_empty())"
   ]
  },
  {
   "cell_type": "code",
   "execution_count": 39,
   "metadata": {},
   "outputs": [
    {
     "name": "stdout",
     "output_type": "stream",
     "text": [
      "1\n",
      "2\n"
     ]
    }
   ],
   "source": [
    "print(len(q))\n",
    "q.push(5)\n",
    "print(len(q))"
   ]
  }
 ],
 "metadata": {
  "kernelspec": {
   "display_name": "Python 3",
   "language": "python",
   "name": "python3"
  },
  "language_info": {
   "codemirror_mode": {
    "name": "ipython",
    "version": 3
   },
   "file_extension": ".py",
   "mimetype": "text/x-python",
   "name": "python",
   "nbconvert_exporter": "python",
   "pygments_lexer": "ipython3",
   "version": "3.7.3"
  }
 },
 "nbformat": 4,
 "nbformat_minor": 2
}
