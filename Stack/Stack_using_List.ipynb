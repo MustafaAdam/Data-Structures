{
 "cells": [
  {
   "cell_type": "code",
   "execution_count": 27,
   "metadata": {},
   "outputs": [],
   "source": [
    "class Empty(Exception):\n",
    "    pass"
   ]
  },
  {
   "cell_type": "code",
   "execution_count": 38,
   "metadata": {},
   "outputs": [],
   "source": [
    "class ArrayStack:\n",
    "    def __init__(self):\n",
    "        self._data = []\n",
    "    \n",
    "    def push(self, data):\n",
    "        self._data.append(data)\n",
    "    \n",
    "    def pop(self):\n",
    "        if len(self._data) == 0:\n",
    "            raise Empty('Stack is empty. Cannot pop.')\n",
    "        data = self._data.pop()\n",
    "        return data\n",
    "\n",
    "    def peek(self):\n",
    "        if len(self._data) == 0:\n",
    "            raise Empty('Stack is empty. Cannot peek')\n",
    "        return self._data[-1]\n",
    "    \n",
    "    def is_empty(self):\n",
    "        return len(self._data) == 0\n",
    "    \n",
    "    def __len__(self):\n",
    "        return len(self._data)"
   ]
  },
  {
   "cell_type": "code",
   "execution_count": 68,
   "metadata": {},
   "outputs": [
    {
     "name": "stderr",
     "output_type": "stream",
     "text": [
      "test_is_empty (__main__.TestArrayStack) ... ok\n",
      "test_pop (__main__.TestArrayStack) ... ok\n",
      "test_push_peek (__main__.TestArrayStack) ... ok\n",
      "\n",
      "----------------------------------------------------------------------\n",
      "Ran 3 tests in 0.002s\n",
      "\n",
      "OK\n"
     ]
    }
   ],
   "source": [
    "import unittest\n",
    "\n",
    "class TestArrayStack(unittest.TestCase):\n",
    "    stack = ArrayStack()\n",
    "    \n",
    "    def test_push_peek(self):\n",
    "        TestArrayStack.stack.push(3)\n",
    "        data = TestArrayStack.stack.peek()\n",
    "        self.assertEqual(data, 3)\n",
    "    \n",
    "    def test_pop(self):\n",
    "        TestArrayStack.stack.push(5)\n",
    "        data = TestArrayStack.stack.pop()\n",
    "        self.assertEqual(data, 5)\n",
    "        \n",
    "    def test_is_empty(self):\n",
    "        TestArrayStack.stack.push(7)\n",
    "        TestArrayStack.stack.pop()\n",
    "        length = len(TestArrayStack.stack)\n",
    "        self.assertEqual(length, 0)\n",
    "        \n",
    "# unittest.main()\n",
    "unittest.main(argv=[''], verbosity=2, exit=False);\n"
   ]
  },
  {
   "cell_type": "markdown",
   "metadata": {},
   "source": [
    "<font size=3>\n",
    "    \n",
    "- Note: I don't like it the push method is being called inside tests of other methods. But:\n",
    "        1. I can't think of a way to test stack method separately as itt does not return any value to be tested.\n",
    "        2. I would've liked to call it once right after the stack instance call, however, I couldn't figure how to persist this change.\n",
    "\n",
    "    \n",
    "- Note\n",
    "        There's a strange issue with the order of execution on unittest module.\n",
    "        If I pushed to the stack once right after the declaration, then suddenly the order of the tests mattered.\n",
    "        Relying on the order of the methods seemed unscalable and distasteful, hence the repetition of the push method.\n",
    "        The following page has an interesting discussion on the order of execution of the unit tests.\n",
    "\n",
    "[Unittest tests order](\"https://stackoverflow.com/questions/4095319/unittest-tests-order\")\n",
    "</font>"
   ]
  }
 ],
 "metadata": {
  "kernelspec": {
   "display_name": "Python 3",
   "language": "python",
   "name": "python3"
  },
  "language_info": {
   "codemirror_mode": {
    "name": "ipython",
    "version": 3
   },
   "file_extension": ".py",
   "mimetype": "text/x-python",
   "name": "python",
   "nbconvert_exporter": "python",
   "pygments_lexer": "ipython3",
   "version": "3.7.3"
  }
 },
 "nbformat": 4,
 "nbformat_minor": 2
}
