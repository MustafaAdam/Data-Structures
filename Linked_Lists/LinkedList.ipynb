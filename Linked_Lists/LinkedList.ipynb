{
 "cells": [
  {
   "cell_type": "code",
   "execution_count": 1,
   "metadata": {},
   "outputs": [],
   "source": [
    "class Empty(Exception):\n",
    "    pass"
   ]
  },
  {
   "cell_type": "code",
   "execution_count": 246,
   "metadata": {},
   "outputs": [],
   "source": [
    "class Node:\n",
    "    def __init__(self, data):\n",
    "        self.data = data\n",
    "        self.next = None\n",
    "        \n",
    "        \n",
    "class LinkedList:\n",
    "    \"\"\" This is an implementation of the linked list data structure \"\"\"\n",
    "    def __init__(self, data=None):\n",
    "        \"\"\" Instantiate the linked list with the data element.\n",
    "        If data is not provided, a node with None data will be created\"\"\"\n",
    "        self.head = Node(data)\n",
    "        self.length = 0  # Extra helper information showing the length of the linked list\n",
    "        if data != None:\n",
    "            self.length += 1\n",
    "        \n",
    "    def add_first(self, data):\n",
    "        \"\"\" Add a node containing the data element to the beginning of the linked list\"\"\"\n",
    "        node = Node(data)\n",
    "        if len(self) == 0:  # This prevents a None node from being created in the linked list when it's instantiated with no data\n",
    "            self.head = node\n",
    "            self.length += 1\n",
    "            return\n",
    "        node.next = self.head\n",
    "        self.head = node\n",
    "        self.length += 1\n",
    "        \n",
    "    def add_last(self, data):\n",
    "        \"\"\" Add a node containing the data element to the end of the linked list\"\"\"\n",
    "        node = Node(data)\n",
    "        if len(self) == 0:  # This prevents a None node from being created in the linked list when it's instantiated with no data\n",
    "            self.head = node\n",
    "            self.length += 1\n",
    "            return\n",
    "        current_node = self.head\n",
    "        while current_node.next:\n",
    "            current_node = current_node.next\n",
    "        current_node.next =node\n",
    "        self.length += 1\n",
    "\n",
    "    def remove_first(self):\n",
    "        \"\"\" Remove the first node in the linked list.\n",
    "        If the linked list is empty, an exception will be raised\"\"\"\n",
    "        if not self.head:\n",
    "            raise Empty('Linked List is empty. Cannot remove element')\n",
    "        self.head = self.head.next\n",
    "        self.length -= 1\n",
    "    \n",
    "    def remove_last(self):\n",
    "        \"\"\" Remove the last node in the linked list\n",
    "        If the linked list is empty, an exception will be raised\"\"\"\n",
    "        if not self.head:\n",
    "            raise Empty('Linked List is empty. Cannot remove element')\n",
    "        current_node = self.head\n",
    "        while current_node.next.next:\n",
    "            current_node = current_node.next\n",
    "        current_node.next = None\n",
    "        self.length -=1\n",
    "    \n",
    "    def add_at(self, index, data):\n",
    "        \"\"\" Add a node with the data element to a specific index \"\"\"\n",
    "        if index == 0:\n",
    "            self.add_first(data)\n",
    "            return\n",
    "        node = Node(data)\n",
    "        previous_node = None\n",
    "        current_node = self.head\n",
    "        for _ in range(index - 1):\n",
    "            previous_node = current_node\n",
    "            current_node = current_node.next\n",
    "        previous_node.next = node\n",
    "        node.next = current_node\n",
    "        self.length += 1\n",
    "    \n",
    "    def remove_at(self, index):\n",
    "        \"\"\" Remove the node at index number in the linked list\"\"\"\n",
    "        if index == 0:\n",
    "            remove_first()\n",
    "            return\n",
    "        current_node  = self.head\n",
    "        for _ in range(index - 2):\n",
    "            current_node  = current_node.next\n",
    "        current_node.next = current_node.next.next\n",
    "        self.length -= 1\n",
    "            \n",
    "            \n",
    "    @classmethod\n",
    "    def from_array(cls, data_list: list):\n",
    "        \"\"\"Create a linked list from a given list\"\"\"\n",
    "        linked_list = cls(data_list[0])\n",
    "        for data in data_list[1:]:\n",
    "            linked_list.add_last(data)\n",
    "        return linked_list\n",
    "        \n",
    "    def __len__(self):\n",
    "        return self.length\n",
    "    \n",
    "    def __str__(self):\n",
    "        data = []\n",
    "        current_node = self.head\n",
    "        while current_node:\n",
    "            current_data = current_node.data\n",
    "            data.append(current_data)\n",
    "            current_node = current_node.next\n",
    "        return \" \".join(str(i) for i in data)"
   ]
  },
  {
   "cell_type": "code",
   "execution_count": 247,
   "metadata": {},
   "outputs": [
    {
     "name": "stdout",
     "output_type": "stream",
     "text": [
      "0 3 5 7\n"
     ]
    }
   ],
   "source": [
    "x = LinkedList.from_array([0, 3, 5, 7])\n",
    "print(x)"
   ]
  },
  {
   "cell_type": "code",
   "execution_count": 183,
   "metadata": {},
   "outputs": [
    {
     "name": "stdout",
     "output_type": "stream",
     "text": [
      "2\n",
      "1\n"
     ]
    }
   ],
   "source": [
    "l = LinkedList(2)\n",
    "print(l)\n",
    "print(l.length)"
   ]
  },
  {
   "cell_type": "code",
   "execution_count": 148,
   "metadata": {},
   "outputs": [
    {
     "name": "stdout",
     "output_type": "stream",
     "text": [
      "5 2\n",
      "2\n"
     ]
    }
   ],
   "source": [
    "l.add_first(5)\n",
    "print(l)\n",
    "print(l.length)"
   ]
  },
  {
   "cell_type": "code",
   "execution_count": 149,
   "metadata": {},
   "outputs": [
    {
     "name": "stdout",
     "output_type": "stream",
     "text": [
      "5 2 0\n",
      "3\n"
     ]
    }
   ],
   "source": [
    "l.add_last(0)\n",
    "print(l)\n",
    "print(l.length)"
   ]
  },
  {
   "cell_type": "code",
   "execution_count": 150,
   "metadata": {},
   "outputs": [
    {
     "name": "stdout",
     "output_type": "stream",
     "text": [
      "2 0\n",
      "2\n"
     ]
    }
   ],
   "source": [
    "l.remove_first()\n",
    "print(l)\n",
    "print(l.length)"
   ]
  },
  {
   "cell_type": "code",
   "execution_count": 151,
   "metadata": {},
   "outputs": [
    {
     "name": "stdout",
     "output_type": "stream",
     "text": [
      "2\n",
      "1\n"
     ]
    }
   ],
   "source": [
    "l.remove_last()\n",
    "print(l)\n",
    "print(l.length)"
   ]
  },
  {
   "cell_type": "code",
   "execution_count": 152,
   "metadata": {},
   "outputs": [
    {
     "name": "stdout",
     "output_type": "stream",
     "text": [
      "\n",
      "0\n"
     ]
    }
   ],
   "source": [
    "l.remove_first()\n",
    "print(l)\n",
    "print(l.length)"
   ]
  },
  {
   "cell_type": "code",
   "execution_count": 153,
   "metadata": {},
   "outputs": [
    {
     "ename": "Empty",
     "evalue": "Linked List is empty. Cannot remove element",
     "output_type": "error",
     "traceback": [
      "\u001b[0;31m---------------------------------------------------------------------------\u001b[0m",
      "\u001b[0;31mEmpty\u001b[0m                                     Traceback (most recent call last)",
      "\u001b[0;32m<ipython-input-153-2546f44a07d3>\u001b[0m in \u001b[0;36m<module>\u001b[0;34m\u001b[0m\n\u001b[0;32m----> 1\u001b[0;31m \u001b[0ml\u001b[0m\u001b[0;34m.\u001b[0m\u001b[0mremove_last\u001b[0m\u001b[0;34m(\u001b[0m\u001b[0;34m)\u001b[0m\u001b[0;34m\u001b[0m\u001b[0;34m\u001b[0m\u001b[0m\n\u001b[0m",
      "\u001b[0;32m<ipython-input-146-33d840356223>\u001b[0m in \u001b[0;36mremove_last\u001b[0;34m(self)\u001b[0m\n\u001b[1;32m     34\u001b[0m     \u001b[0;32mdef\u001b[0m \u001b[0mremove_last\u001b[0m\u001b[0;34m(\u001b[0m\u001b[0mself\u001b[0m\u001b[0;34m)\u001b[0m\u001b[0;34m:\u001b[0m\u001b[0;34m\u001b[0m\u001b[0;34m\u001b[0m\u001b[0m\n\u001b[1;32m     35\u001b[0m         \u001b[0;32mif\u001b[0m \u001b[0;32mnot\u001b[0m \u001b[0mself\u001b[0m\u001b[0;34m.\u001b[0m\u001b[0mhead\u001b[0m\u001b[0;34m:\u001b[0m\u001b[0;34m\u001b[0m\u001b[0;34m\u001b[0m\u001b[0m\n\u001b[0;32m---> 36\u001b[0;31m             \u001b[0;32mraise\u001b[0m \u001b[0mEmpty\u001b[0m\u001b[0;34m(\u001b[0m\u001b[0;34m'Linked List is empty. Cannot remove element'\u001b[0m\u001b[0;34m)\u001b[0m\u001b[0;34m\u001b[0m\u001b[0;34m\u001b[0m\u001b[0m\n\u001b[0m\u001b[1;32m     37\u001b[0m         \u001b[0mcurrent_node\u001b[0m \u001b[0;34m=\u001b[0m \u001b[0mself\u001b[0m\u001b[0;34m.\u001b[0m\u001b[0mhead\u001b[0m\u001b[0;34m\u001b[0m\u001b[0;34m\u001b[0m\u001b[0m\n\u001b[1;32m     38\u001b[0m         \u001b[0;32mwhile\u001b[0m \u001b[0mcurrent_node\u001b[0m\u001b[0;34m.\u001b[0m\u001b[0mnext\u001b[0m\u001b[0;34m.\u001b[0m\u001b[0mnext\u001b[0m\u001b[0;34m:\u001b[0m\u001b[0;34m\u001b[0m\u001b[0;34m\u001b[0m\u001b[0m\n",
      "\u001b[0;31mEmpty\u001b[0m: Linked List is empty. Cannot remove element"
     ]
    }
   ],
   "source": [
    "l.remove_last()"
   ]
  },
  {
   "cell_type": "code",
   "execution_count": 154,
   "metadata": {},
   "outputs": [
    {
     "ename": "Empty",
     "evalue": "Linked List is empty. Cannot remove element",
     "output_type": "error",
     "traceback": [
      "\u001b[0;31m---------------------------------------------------------------------------\u001b[0m",
      "\u001b[0;31mEmpty\u001b[0m                                     Traceback (most recent call last)",
      "\u001b[0;32m<ipython-input-154-a2fe526a9674>\u001b[0m in \u001b[0;36m<module>\u001b[0;34m\u001b[0m\n\u001b[0;32m----> 1\u001b[0;31m \u001b[0ml\u001b[0m\u001b[0;34m.\u001b[0m\u001b[0mremove_first\u001b[0m\u001b[0;34m(\u001b[0m\u001b[0;34m)\u001b[0m\u001b[0;34m\u001b[0m\u001b[0;34m\u001b[0m\u001b[0m\n\u001b[0m",
      "\u001b[0;32m<ipython-input-146-33d840356223>\u001b[0m in \u001b[0;36mremove_first\u001b[0;34m(self)\u001b[0m\n\u001b[1;32m     28\u001b[0m     \u001b[0;32mdef\u001b[0m \u001b[0mremove_first\u001b[0m\u001b[0;34m(\u001b[0m\u001b[0mself\u001b[0m\u001b[0;34m)\u001b[0m\u001b[0;34m:\u001b[0m\u001b[0;34m\u001b[0m\u001b[0;34m\u001b[0m\u001b[0m\n\u001b[1;32m     29\u001b[0m         \u001b[0;32mif\u001b[0m \u001b[0;32mnot\u001b[0m \u001b[0mself\u001b[0m\u001b[0;34m.\u001b[0m\u001b[0mhead\u001b[0m\u001b[0;34m:\u001b[0m\u001b[0;34m\u001b[0m\u001b[0;34m\u001b[0m\u001b[0m\n\u001b[0;32m---> 30\u001b[0;31m             \u001b[0;32mraise\u001b[0m \u001b[0mEmpty\u001b[0m\u001b[0;34m(\u001b[0m\u001b[0;34m'Linked List is empty. Cannot remove element'\u001b[0m\u001b[0;34m)\u001b[0m\u001b[0;34m\u001b[0m\u001b[0;34m\u001b[0m\u001b[0m\n\u001b[0m\u001b[1;32m     31\u001b[0m         \u001b[0mself\u001b[0m\u001b[0;34m.\u001b[0m\u001b[0mhead\u001b[0m \u001b[0;34m=\u001b[0m \u001b[0mself\u001b[0m\u001b[0;34m.\u001b[0m\u001b[0mhead\u001b[0m\u001b[0;34m.\u001b[0m\u001b[0mnext\u001b[0m\u001b[0;34m\u001b[0m\u001b[0;34m\u001b[0m\u001b[0m\n\u001b[1;32m     32\u001b[0m         \u001b[0mself\u001b[0m\u001b[0;34m.\u001b[0m\u001b[0mlength\u001b[0m \u001b[0;34m-=\u001b[0m \u001b[0;36m1\u001b[0m\u001b[0;34m\u001b[0m\u001b[0;34m\u001b[0m\u001b[0m\n",
      "\u001b[0;31mEmpty\u001b[0m: Linked List is empty. Cannot remove element"
     ]
    }
   ],
   "source": [
    "l.remove_first()"
   ]
  },
  {
   "cell_type": "code",
   "execution_count": 181,
   "metadata": {},
   "outputs": [
    {
     "name": "stdout",
     "output_type": "stream",
     "text": [
      "0 3 7\n",
      "0 3 5 7\n",
      "-3 0 3 5 7\n",
      "-3 0 3 5 7 9\n",
      "6\n"
     ]
    }
   ],
   "source": [
    "l = LinkedList(3)\n",
    "l.add_first(0)\n",
    "l.add_last(7)\n",
    "print(l)\n",
    "l.add_at(2, 5)\n",
    "print(l)\n",
    "l.add_at(0, -3)\n",
    "print(l)\n",
    "l.add_at(5, 9)\n",
    "print(l)\n",
    "print(len(l))"
   ]
  },
  {
   "cell_type": "code",
   "execution_count": 190,
   "metadata": {},
   "outputs": [
    {
     "name": "stdout",
     "output_type": "stream",
     "text": [
      "-3\n",
      "0 -3\n",
      "0 5 -3\n",
      "3\n",
      "0 -3\n",
      "2\n"
     ]
    }
   ],
   "source": [
    "s = LinkedList()\n",
    "s.add_first(-3)\n",
    "print(s)\n",
    "s.add_first(0)\n",
    "print(s)\n",
    "s.add_at(2, 5)\n",
    "print(s)\n",
    "print(len(s))\n",
    "s.remove_at(2)\n",
    "print(s)\n",
    "print(len(s))"
   ]
  }
 ],
 "metadata": {
  "kernelspec": {
   "display_name": "Python 3",
   "language": "python",
   "name": "python3"
  },
  "language_info": {
   "codemirror_mode": {
    "name": "ipython",
    "version": 3
   },
   "file_extension": ".py",
   "mimetype": "text/x-python",
   "name": "python",
   "nbconvert_exporter": "python",
   "pygments_lexer": "ipython3",
   "version": "3.7.3"
  }
 },
 "nbformat": 4,
 "nbformat_minor": 2
}
