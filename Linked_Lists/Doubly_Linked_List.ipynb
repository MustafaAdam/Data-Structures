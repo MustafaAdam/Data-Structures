{
 "cells": [
  {
   "cell_type": "code",
   "execution_count": 104,
   "metadata": {},
   "outputs": [],
   "source": [
    "class Empty(Exception):\n",
    "    pass"
   ]
  },
  {
   "cell_type": "code",
   "execution_count": 105,
   "metadata": {},
   "outputs": [],
   "source": [
    "class Node:\n",
    "    def __init__(self, data):\n",
    "        self.data = data\n",
    "        self.next = None\n",
    "        self.prev = None"
   ]
  },
  {
   "cell_type": "code",
   "execution_count": 126,
   "metadata": {},
   "outputs": [],
   "source": [
    "class DoublyLinkedList:\n",
    "    \"\"\" An implementation of a doubly linked list where each node has a previous and next pointer.\n",
    "    This will make both the add_first and add_last functions have a constant worst running time. Instead of the linear worst running time with a singly linked list\"\"\"\n",
    "    def __init__(self):\n",
    "        self.head = None\n",
    "        self.tail = None\n",
    "    \n",
    "    def is_empty(self):\n",
    "        \"\"\" check if linked list is empty. Return True if empty, False otherwise \"\"\"\n",
    "        return not self.head and not self.tail\n",
    "    \n",
    "    def _add_first_element(self, data):\n",
    "        self.head = self.tail = Node(data)\n",
    "        \n",
    "    def add_first(self, data):\n",
    "        \"\"\" add an item to the begininng of the linked list \"\"\"\n",
    "        new_node = Node(data)\n",
    "        if self.is_empty():\n",
    "            self._add_first_element(data)\n",
    "            return\n",
    "        new_node.prev = self.head\n",
    "        self.head.next = new_node\n",
    "        self.head = new_node        \n",
    "    \n",
    "    def add_last(self, data):\n",
    "        \"\"\" add an item to the end of the linked list \"\"\"\n",
    "        new_node = Node(data)\n",
    "        if self.is_empty():\n",
    "            self._add_first_element(data)\n",
    "            return\n",
    "        new_node.next = self.tail\n",
    "        self.tail.prev = new_node\n",
    "        self.tail = new_node\n",
    "        \n",
    "    def remove_first(self):\n",
    "        \"\"\" remove the item at the begininng of the linked list \"\"\"\n",
    "        if self.is_empty():\n",
    "            raise Empty('Linked List is empty. cannot remove')\n",
    "        data = self.head.data\n",
    "        self.head = self.head.prev\n",
    "        if self.head is None:  # when self.head is None, the linked list is empty. We must set self.tail as None for the is_empty to function properly\n",
    "            self.tail = None\n",
    "        return data\n",
    "    \n",
    "    def remove_last(self):\n",
    "        \"\"\" remove an item from the end of the linked list \"\"\"\n",
    "        if self.is_empty():\n",
    "            raise Empty('Linked List is empty. cannot remove')\n",
    "        data = self.tail.data\n",
    "        self.tail = self.tail.next\n",
    "        if self.tail is None:  # when self.tail is None, the linked list is empty. We must set self.tail as None for the is_empty to function properly\n",
    "            self.head = None\n",
    "        return data \n",
    "    \n",
    "    def __repr__(self):\n",
    "        \"\"\" machien readable string representation of the linked list \"\"\"\n",
    "        if self.is_empty():\n",
    "            return \"The linked list is empty\"\n",
    "        data_list = []\n",
    "        current = self.tail\n",
    "        while current:\n",
    "            data = current.data\n",
    "            data_list.append(data)\n",
    "            current = current.next\n",
    "        return \" \".join([str(item) for item in data_list])"
   ]
  },
  {
   "cell_type": "code",
   "execution_count": 127,
   "metadata": {},
   "outputs": [
    {
     "data": {
      "text/plain": [
       "9 7 3 5"
      ]
     },
     "execution_count": 127,
     "metadata": {},
     "output_type": "execute_result"
    }
   ],
   "source": [
    "dll = DoublyLinkedList()\n",
    "dll.add_first(3)\n",
    "dll.add_first(5)\n",
    "dll.add_last(7)\n",
    "dll.add_last(9)\n",
    "dll"
   ]
  },
  {
   "cell_type": "code",
   "execution_count": 128,
   "metadata": {},
   "outputs": [
    {
     "name": "stdout",
     "output_type": "stream",
     "text": [
      "5\n",
      "3\n",
      "7\n",
      "9\n"
     ]
    }
   ],
   "source": [
    "print(dll.remove_first())\n",
    "print(dll.remove_first())\n",
    "print(dll.remove_first())\n",
    "print(dll.remove_first())"
   ]
  },
  {
   "cell_type": "code",
   "execution_count": 129,
   "metadata": {},
   "outputs": [
    {
     "ename": "Empty",
     "evalue": "Linked List is empty. cannot remove",
     "output_type": "error",
     "traceback": [
      "\u001b[0;31m---------------------------------------------------------------------------\u001b[0m",
      "\u001b[0;31mEmpty\u001b[0m                                     Traceback (most recent call last)",
      "\u001b[0;32m<ipython-input-129-c331da4343be>\u001b[0m in \u001b[0;36m<module>\u001b[0;34m\u001b[0m\n\u001b[0;32m----> 1\u001b[0;31m \u001b[0mdll\u001b[0m\u001b[0;34m.\u001b[0m\u001b[0mremove_first\u001b[0m\u001b[0;34m(\u001b[0m\u001b[0;34m)\u001b[0m\u001b[0;34m\u001b[0m\u001b[0;34m\u001b[0m\u001b[0m\n\u001b[0m",
      "\u001b[0;32m<ipython-input-126-540904bf46d9>\u001b[0m in \u001b[0;36mremove_first\u001b[0;34m(self)\u001b[0m\n\u001b[1;32m     36\u001b[0m         \u001b[0;34m\"\"\" remove the item at the begininng of the linked list \"\"\"\u001b[0m\u001b[0;34m\u001b[0m\u001b[0;34m\u001b[0m\u001b[0m\n\u001b[1;32m     37\u001b[0m         \u001b[0;32mif\u001b[0m \u001b[0mself\u001b[0m\u001b[0;34m.\u001b[0m\u001b[0mis_empty\u001b[0m\u001b[0;34m(\u001b[0m\u001b[0;34m)\u001b[0m\u001b[0;34m:\u001b[0m\u001b[0;34m\u001b[0m\u001b[0;34m\u001b[0m\u001b[0m\n\u001b[0;32m---> 38\u001b[0;31m             \u001b[0;32mraise\u001b[0m \u001b[0mEmpty\u001b[0m\u001b[0;34m(\u001b[0m\u001b[0;34m'Linked List is empty. cannot remove'\u001b[0m\u001b[0;34m)\u001b[0m\u001b[0;34m\u001b[0m\u001b[0;34m\u001b[0m\u001b[0m\n\u001b[0m\u001b[1;32m     39\u001b[0m         \u001b[0mdata\u001b[0m \u001b[0;34m=\u001b[0m \u001b[0mself\u001b[0m\u001b[0;34m.\u001b[0m\u001b[0mhead\u001b[0m\u001b[0;34m.\u001b[0m\u001b[0mdata\u001b[0m\u001b[0;34m\u001b[0m\u001b[0;34m\u001b[0m\u001b[0m\n\u001b[1;32m     40\u001b[0m         \u001b[0mself\u001b[0m\u001b[0;34m.\u001b[0m\u001b[0mhead\u001b[0m \u001b[0;34m=\u001b[0m \u001b[0mself\u001b[0m\u001b[0;34m.\u001b[0m\u001b[0mhead\u001b[0m\u001b[0;34m.\u001b[0m\u001b[0mprev\u001b[0m\u001b[0;34m\u001b[0m\u001b[0;34m\u001b[0m\u001b[0m\n",
      "\u001b[0;31mEmpty\u001b[0m: Linked List is empty. cannot remove"
     ]
    }
   ],
   "source": [
    "dll.remove_first()"
   ]
  },
  {
   "cell_type": "code",
   "execution_count": 120,
   "metadata": {},
   "outputs": [
    {
     "data": {
      "text/plain": [
       "9 7 3 5"
      ]
     },
     "execution_count": 120,
     "metadata": {},
     "output_type": "execute_result"
    }
   ],
   "source": [
    "dll = DoublyLinkedList()\n",
    "dll.add_first(3)\n",
    "dll.add_first(5)\n",
    "dll.add_last(7)\n",
    "dll.add_last(9)\n",
    "dll"
   ]
  },
  {
   "cell_type": "code",
   "execution_count": 121,
   "metadata": {},
   "outputs": [
    {
     "name": "stdout",
     "output_type": "stream",
     "text": [
      "9\n",
      "7\n",
      "3\n",
      "5\n"
     ]
    }
   ],
   "source": [
    "print(dll.remove_last())\n",
    "print(dll.remove_last())\n",
    "print(dll.remove_last())\n",
    "print(dll.remove_last())"
   ]
  },
  {
   "cell_type": "code",
   "execution_count": 131,
   "metadata": {},
   "outputs": [
    {
     "ename": "Empty",
     "evalue": "Linked List is empty. cannot remove",
     "output_type": "error",
     "traceback": [
      "\u001b[0;31m---------------------------------------------------------------------------\u001b[0m",
      "\u001b[0;31mEmpty\u001b[0m                                     Traceback (most recent call last)",
      "\u001b[0;32m<ipython-input-131-fd759731a8f9>\u001b[0m in \u001b[0;36m<module>\u001b[0;34m\u001b[0m\n\u001b[0;32m----> 1\u001b[0;31m \u001b[0mdll\u001b[0m\u001b[0;34m.\u001b[0m\u001b[0mremove_last\u001b[0m\u001b[0;34m(\u001b[0m\u001b[0;34m)\u001b[0m\u001b[0;34m\u001b[0m\u001b[0;34m\u001b[0m\u001b[0m\n\u001b[0m",
      "\u001b[0;32m<ipython-input-126-540904bf46d9>\u001b[0m in \u001b[0;36mremove_last\u001b[0;34m(self)\u001b[0m\n\u001b[1;32m     46\u001b[0m         \u001b[0;34m\"\"\" remove an item from the end of the linked list \"\"\"\u001b[0m\u001b[0;34m\u001b[0m\u001b[0;34m\u001b[0m\u001b[0m\n\u001b[1;32m     47\u001b[0m         \u001b[0;32mif\u001b[0m \u001b[0mself\u001b[0m\u001b[0;34m.\u001b[0m\u001b[0mis_empty\u001b[0m\u001b[0;34m(\u001b[0m\u001b[0;34m)\u001b[0m\u001b[0;34m:\u001b[0m\u001b[0;34m\u001b[0m\u001b[0;34m\u001b[0m\u001b[0m\n\u001b[0;32m---> 48\u001b[0;31m             \u001b[0;32mraise\u001b[0m \u001b[0mEmpty\u001b[0m\u001b[0;34m(\u001b[0m\u001b[0;34m'Linked List is empty. cannot remove'\u001b[0m\u001b[0;34m)\u001b[0m\u001b[0;34m\u001b[0m\u001b[0;34m\u001b[0m\u001b[0m\n\u001b[0m\u001b[1;32m     49\u001b[0m         \u001b[0mdata\u001b[0m \u001b[0;34m=\u001b[0m \u001b[0mself\u001b[0m\u001b[0;34m.\u001b[0m\u001b[0mtail\u001b[0m\u001b[0;34m.\u001b[0m\u001b[0mdata\u001b[0m\u001b[0;34m\u001b[0m\u001b[0;34m\u001b[0m\u001b[0m\n\u001b[1;32m     50\u001b[0m         \u001b[0mself\u001b[0m\u001b[0;34m.\u001b[0m\u001b[0mtail\u001b[0m \u001b[0;34m=\u001b[0m \u001b[0mself\u001b[0m\u001b[0;34m.\u001b[0m\u001b[0mtail\u001b[0m\u001b[0;34m.\u001b[0m\u001b[0mnext\u001b[0m\u001b[0;34m\u001b[0m\u001b[0;34m\u001b[0m\u001b[0m\n",
      "\u001b[0;31mEmpty\u001b[0m: Linked List is empty. cannot remove"
     ]
    }
   ],
   "source": [
    "dll.remove_last()"
   ]
  },
  {
   "cell_type": "markdown",
   "metadata": {},
   "source": [
    "## We can add few functions that does extra features such as checking for duplicates"
   ]
  }
 ],
 "metadata": {
  "kernelspec": {
   "display_name": "Python 3",
   "language": "python",
   "name": "python3"
  },
  "language_info": {
   "codemirror_mode": {
    "name": "ipython",
    "version": 3
   },
   "file_extension": ".py",
   "mimetype": "text/x-python",
   "name": "python",
   "nbconvert_exporter": "python",
   "pygments_lexer": "ipython3",
   "version": "3.7.3"
  }
 },
 "nbformat": 4,
 "nbformat_minor": 2
}
