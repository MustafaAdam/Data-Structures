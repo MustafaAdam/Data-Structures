{
 "cells": [
  {
   "cell_type": "markdown",
   "metadata": {},
   "source": [
    "<font size=\"4\">\n",
    "The current implementation is inefficient.<br>\n",
    "Using a list as the underlying data structure when implementating a queue will require a call to either pop(0) or insert(0, data_item). <br>\n",
    "Both are inefficient operation with a worst case behaviour of O(n) where n is the length of the underlying list. <br>\n",
    "This behaviour is because calling either methods triggers a behind the scenes loop to move the contents of the list to the left or the right.<br>\n",
    "\n",
    "A better implementation of the queue using a list is by using the list circularly\n",
    "</font>"
   ]
  },
  {
   "cell_type": "code",
   "execution_count": 59,
   "metadata": {},
   "outputs": [],
   "source": [
    "class Empty(Exception):\n",
    "    pass"
   ]
  },
  {
   "cell_type": "code",
   "execution_count": 82,
   "metadata": {},
   "outputs": [],
   "source": [
    "class Queue:\n",
    "    \"\"\"Queue implementation using a list\"\"\"\n",
    "    def __init__(self):\n",
    "        self.queue = []\n",
    "        self.length = 0\n",
    "        \n",
    "    def add(self, data):\n",
    "        \"\"\" Remove item at the front of the queue.\n",
    "        Inefficient implementation because the call to insert(0, data) is O(n) as a loop is executed internally to move items to the front of the underlying list\"\"\"\n",
    "        self.queue.insert(0, data)\n",
    "        self.length += 1\n",
    "    \n",
    "    def remove(self):\n",
    "        \"\"\" Remove and return the current element at the front of the queue.\n",
    "        Raises an exception if queue is empty\"\"\"\n",
    "        if self.is_empty():\n",
    "            raise Empty('Queue is empty. Cannot remove')\n",
    "        return self.queue.pop()\n",
    "        self.length -= 1\n",
    "    \n",
    "    def peek(self):\n",
    "        \"\"\"Returns but does not removes the current element at the front of the queue\"\"\"\n",
    "        if self.is_empty():\n",
    "            raise Empty('Queue is empty. Cannot peek')\n",
    "        return self.queue[-1]\n",
    "    \n",
    "    def is_empty(self):\n",
    "        \"\"\"Returns True if queue is empty. False otherwise\"\"\"\n",
    "        return not self.queue\n",
    "    \n",
    "    @classmethod\n",
    "    def from_array(cls, data_list: list):\n",
    "        \"\"\"Class method to create a queue from a list\"\"\"\n",
    "        queue_instance = cls()\n",
    "        for data in data_list:\n",
    "            queue_instance.add(data)\n",
    "        return queue_instance\n",
    "    \n",
    "    def __len__(self):\n",
    "        return self.length\n",
    "    \n",
    "    def __str__(self):\n",
    "        queue_data = \", \".join(str(data) for data in self.queue)\n",
    "        return \"Data in queue are: {}\".format(queue_data)"
   ]
  },
  {
   "cell_type": "code",
   "execution_count": 74,
   "metadata": {},
   "outputs": [
    {
     "name": "stdout",
     "output_type": "stream",
     "text": [
      "Data in queue are: 7, 5, 3\n",
      "3\n",
      "5\n",
      "7\n"
     ]
    }
   ],
   "source": [
    "q = Queue()\n",
    "q.add(3)\n",
    "q.add(5)\n",
    "q.add(7)\n",
    "print(q)\n",
    "print(q.remove())\n",
    "print(q.remove())\n",
    "print(q.remove())"
   ]
  },
  {
   "cell_type": "code",
   "execution_count": 75,
   "metadata": {},
   "outputs": [
    {
     "name": "stdout",
     "output_type": "stream",
     "text": [
      "Data in queue are: 3, 2, 1\n"
     ]
    }
   ],
   "source": [
    "q = Queue.from_array([1, 2, 3])\n",
    "print(q)"
   ]
  },
  {
   "cell_type": "code",
   "execution_count": 76,
   "metadata": {},
   "outputs": [
    {
     "ename": "Empty",
     "evalue": "Queue is empty. Cannot remove",
     "output_type": "error",
     "traceback": [
      "\u001b[0;31m---------------------------------------------------------------------------\u001b[0m",
      "\u001b[0;31mEmpty\u001b[0m                                     Traceback (most recent call last)",
      "\u001b[0;32m<ipython-input-76-691ecf301995>\u001b[0m in \u001b[0;36m<module>\u001b[0;34m\u001b[0m\n\u001b[1;32m      1\u001b[0m \u001b[0mq\u001b[0m \u001b[0;34m=\u001b[0m \u001b[0mQueue\u001b[0m\u001b[0;34m(\u001b[0m\u001b[0;34m)\u001b[0m\u001b[0;34m\u001b[0m\u001b[0;34m\u001b[0m\u001b[0m\n\u001b[0;32m----> 2\u001b[0;31m \u001b[0mq\u001b[0m\u001b[0;34m.\u001b[0m\u001b[0mremove\u001b[0m\u001b[0;34m(\u001b[0m\u001b[0;34m)\u001b[0m\u001b[0;34m\u001b[0m\u001b[0;34m\u001b[0m\u001b[0m\n\u001b[0m",
      "\u001b[0;32m<ipython-input-73-314ea7e9fd23>\u001b[0m in \u001b[0;36mremove\u001b[0;34m(self)\u001b[0m\n\u001b[1;32m     15\u001b[0m         Raises an exception if queue is empty\"\"\"\n\u001b[1;32m     16\u001b[0m         \u001b[0;32mif\u001b[0m \u001b[0;32mnot\u001b[0m \u001b[0mself\u001b[0m\u001b[0;34m.\u001b[0m\u001b[0mqueue\u001b[0m\u001b[0;34m:\u001b[0m\u001b[0;34m\u001b[0m\u001b[0;34m\u001b[0m\u001b[0m\n\u001b[0;32m---> 17\u001b[0;31m             \u001b[0;32mraise\u001b[0m \u001b[0mEmpty\u001b[0m\u001b[0;34m(\u001b[0m\u001b[0;34m'Queue is empty. Cannot remove'\u001b[0m\u001b[0;34m)\u001b[0m\u001b[0;34m\u001b[0m\u001b[0;34m\u001b[0m\u001b[0m\n\u001b[0m\u001b[1;32m     18\u001b[0m         \u001b[0;32mreturn\u001b[0m \u001b[0mself\u001b[0m\u001b[0;34m.\u001b[0m\u001b[0mqueue\u001b[0m\u001b[0;34m.\u001b[0m\u001b[0mpop\u001b[0m\u001b[0;34m(\u001b[0m\u001b[0;34m)\u001b[0m\u001b[0;34m\u001b[0m\u001b[0;34m\u001b[0m\u001b[0m\n\u001b[1;32m     19\u001b[0m         \u001b[0mself\u001b[0m\u001b[0;34m.\u001b[0m\u001b[0mlength\u001b[0m \u001b[0;34m-=\u001b[0m \u001b[0;36m1\u001b[0m\u001b[0;34m\u001b[0m\u001b[0;34m\u001b[0m\u001b[0m\n",
      "\u001b[0;31mEmpty\u001b[0m: Queue is empty. Cannot remove"
     ]
    }
   ],
   "source": [
    "q = Queue()\n",
    "q.remove()"
   ]
  },
  {
   "cell_type": "code",
   "execution_count": 81,
   "metadata": {},
   "outputs": [
    {
     "name": "stdout",
     "output_type": "stream",
     "text": [
      "5\n"
     ]
    },
    {
     "ename": "Empty",
     "evalue": "Queue is empty. Cannot peek",
     "output_type": "error",
     "traceback": [
      "\u001b[0;31m---------------------------------------------------------------------------\u001b[0m",
      "\u001b[0;31mEmpty\u001b[0m                                     Traceback (most recent call last)",
      "\u001b[0;32m<ipython-input-81-5491ec44751d>\u001b[0m in \u001b[0;36m<module>\u001b[0;34m\u001b[0m\n\u001b[1;32m      3\u001b[0m \u001b[0mprint\u001b[0m\u001b[0;34m(\u001b[0m\u001b[0mlen\u001b[0m\u001b[0;34m(\u001b[0m\u001b[0mq\u001b[0m\u001b[0;34m)\u001b[0m\u001b[0;34m)\u001b[0m\u001b[0;34m\u001b[0m\u001b[0;34m\u001b[0m\u001b[0m\n\u001b[1;32m      4\u001b[0m \u001b[0mq\u001b[0m \u001b[0;34m=\u001b[0m \u001b[0mQueue\u001b[0m\u001b[0;34m(\u001b[0m\u001b[0;34m)\u001b[0m\u001b[0;34m\u001b[0m\u001b[0;34m\u001b[0m\u001b[0m\n\u001b[0;32m----> 5\u001b[0;31m \u001b[0mq\u001b[0m\u001b[0;34m.\u001b[0m\u001b[0mpeek\u001b[0m\u001b[0;34m(\u001b[0m\u001b[0;34m)\u001b[0m\u001b[0;34m\u001b[0m\u001b[0;34m\u001b[0m\u001b[0m\n\u001b[0m",
      "\u001b[0;32m<ipython-input-80-3f4db3921d8c>\u001b[0m in \u001b[0;36mpeek\u001b[0;34m(self)\u001b[0m\n\u001b[1;32m     22\u001b[0m         \u001b[0;34m\"\"\"Returns but does not removes the current element at the front of the queue\"\"\"\u001b[0m\u001b[0;34m\u001b[0m\u001b[0;34m\u001b[0m\u001b[0m\n\u001b[1;32m     23\u001b[0m         \u001b[0;32mif\u001b[0m \u001b[0mself\u001b[0m\u001b[0;34m.\u001b[0m\u001b[0mis_empty\u001b[0m\u001b[0;34m(\u001b[0m\u001b[0;34m)\u001b[0m\u001b[0;34m:\u001b[0m\u001b[0;34m\u001b[0m\u001b[0;34m\u001b[0m\u001b[0m\n\u001b[0;32m---> 24\u001b[0;31m             \u001b[0;32mraise\u001b[0m \u001b[0mEmpty\u001b[0m\u001b[0;34m(\u001b[0m\u001b[0;34m'Queue is empty. Cannot peek'\u001b[0m\u001b[0;34m)\u001b[0m\u001b[0;34m\u001b[0m\u001b[0;34m\u001b[0m\u001b[0m\n\u001b[0m\u001b[1;32m     25\u001b[0m         \u001b[0;32mreturn\u001b[0m \u001b[0mself\u001b[0m\u001b[0;34m.\u001b[0m\u001b[0mqueue\u001b[0m\u001b[0;34m[\u001b[0m\u001b[0;34m-\u001b[0m\u001b[0;36m1\u001b[0m\u001b[0;34m]\u001b[0m\u001b[0;34m\u001b[0m\u001b[0;34m\u001b[0m\u001b[0m\n\u001b[1;32m     26\u001b[0m \u001b[0;34m\u001b[0m\u001b[0m\n",
      "\u001b[0;31mEmpty\u001b[0m: Queue is empty. Cannot peek"
     ]
    }
   ],
   "source": [
    "q = Queue.from_array([3, 5, 7, 9, 11])\n",
    "q.peek()\n",
    "print(len(q))\n",
    "q = Queue()\n",
    "q.peek()"
   ]
  },
  {
   "cell_type": "code",
   "execution_count": 79,
   "metadata": {},
   "outputs": [
    {
     "name": "stdout",
     "output_type": "stream",
     "text": [
      "True\n",
      "False\n"
     ]
    }
   ],
   "source": [
    "q = Queue()\n",
    "print(q.is_empty())\n",
    "q.add(3)\n",
    "print(q.is_empty())"
   ]
  }
 ],
 "metadata": {
  "kernelspec": {
   "display_name": "Python 3",
   "language": "python",
   "name": "python3"
  },
  "language_info": {
   "codemirror_mode": {
    "name": "ipython",
    "version": 3
   },
   "file_extension": ".py",
   "mimetype": "text/x-python",
   "name": "python",
   "nbconvert_exporter": "python",
   "pygments_lexer": "ipython3",
   "version": "3.7.3"
  }
 },
 "nbformat": 4,
 "nbformat_minor": 2
}
