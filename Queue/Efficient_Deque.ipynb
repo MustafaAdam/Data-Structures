{
 "cells": [
  {
   "cell_type": "markdown",
   "metadata": {},
   "source": [
    "#### The deque will use a doubly linked list implementation. This should be more efficient as it avoid the linear complexity methods when using a regular list"
   ]
  },
  {
   "cell_type": "code",
   "execution_count": 245,
   "metadata": {},
   "outputs": [],
   "source": [
    "class Empty(Exception):\n",
    "    pass"
   ]
  },
  {
   "cell_type": "code",
   "execution_count": 43,
   "metadata": {},
   "outputs": [],
   "source": [
    "class _Node:\n",
    "    def __init__(self, data):\n",
    "        self.data = data\n",
    "        self.next = None\n",
    "        self.prev = None"
   ]
  },
  {
   "cell_type": "code",
   "execution_count": 243,
   "metadata": {},
   "outputs": [],
   "source": [
    "class Deque:\n",
    "    \"\"\" A deque data structures implemented as a doubly linked list\"\"\"\n",
    "    def __init__(self):\n",
    "        self.head = None  # for adding to and removing from the front of the deque\n",
    "        self.tail = None  # for adding to and removing from the back of the deque\n",
    "    \n",
    "    def is_empty(self):\n",
    "        \"\"\"Checks if deque is empty. Return True if empty, False otherwise\"\"\"\n",
    "        return not self.head and not self.tail\n",
    "    \n",
    "    def add_front(self, data):\n",
    "        \"\"\"add an item to the front of the deque\"\"\"\n",
    "        node = _Node(data)\n",
    "        if self.is_empty():\n",
    "            self.head = self.tail = node\n",
    "            return\n",
    "        node.prev = self.head\n",
    "        self.head.next = node\n",
    "        self.head = node\n",
    "    \n",
    "    def add_back(self, data):\n",
    "        \"\"\"add an item to the back of the deque\"\"\"\n",
    "        node = _Node(data)\n",
    "        if self.is_empty():\n",
    "            self.head = self.tail = node\n",
    "            return\n",
    "        node.next = self.tail\n",
    "        self.tail.prev = node\n",
    "        self.tail = node\n",
    "        \n",
    "    def remove_front(self):\n",
    "        \"\"\"remove an item from the front of the deque\n",
    "        raise exception if deque is empty. return data otherwise\"\"\"\n",
    "        if self.is_empty():\n",
    "            raise Empty('Deque is empty. Cannot remove')\n",
    "        data = self.head.data\n",
    "        # the next if statement is to check for a single last element remaining. Without this check, after removing the last element,\n",
    "        # the Empty exception won't be raised and the remove method will fail on trying to retrieve the next pointer on a None element.\n",
    "        if self.head is self.tail:  \n",
    "            self.head = self.tail = None\n",
    "            return data\n",
    "        self.head = self.head.prev\n",
    "        self.head.next = None  # since the first item has been removed, the head should point next to a None. if not, the head will keep pointing to a removed node\n",
    "        return data\n",
    "    \n",
    "    def remove_back(self):\n",
    "        \"\"\"remove an item from the back of the deque.\n",
    "        raise exception if deque is empty. return data otherwise\"\"\"\n",
    "        if self.is_empty():\n",
    "            raise Empty('Deque is empty. Cannot remove')\n",
    "        data = self.tail.data\n",
    "        if self.tail is self.head:\n",
    "            self.tail = self.head = None\n",
    "            return data\n",
    "        self.tail = self.tail.next\n",
    "        self.tail.prev = None  # since the last item has been removed, the tail should point prev to a None. if not, the tail will keep pointing to a removed node\n",
    "        return data\n",
    "    \n",
    "    def peek_front(self):\n",
    "        \"\"\"returns but does not remove the item at the front of the deque\"\"\"\n",
    "        return self.head.data\n",
    "    \n",
    "    def peek_back(self):\n",
    "        \"\"\"returns but does not remove the item at the back of the deque\"\"\"\n",
    "        return self.tail.data\n",
    "    \n",
    "    def __repr__(self):\n",
    "        \"\"\"a string representation of the deque\"\"\"\n",
    "        data_list = []\n",
    "        current = self.tail\n",
    "        while current:\n",
    "            data_list.append(current.data)\n",
    "            current = current.next\n",
    "        if not data_list:\n",
    "            return 'The deque is empty!'\n",
    "        return \" \".join([str(item) for item in data_list])"
   ]
  },
  {
   "cell_type": "code",
   "execution_count": 242,
   "metadata": {},
   "outputs": [
    {
     "data": {
      "text/plain": [
       "3 5"
      ]
     },
     "execution_count": 242,
     "metadata": {},
     "output_type": "execute_result"
    }
   ],
   "source": [
    "d = Deque()\n",
    "d.add_front(3)\n",
    "d.add_front(5)\n",
    "d"
   ]
  },
  {
   "cell_type": "code",
   "execution_count": 227,
   "metadata": {},
   "outputs": [
    {
     "data": {
      "text/plain": [
       "-3 0 3 5"
      ]
     },
     "execution_count": 227,
     "metadata": {},
     "output_type": "execute_result"
    }
   ],
   "source": [
    "d.add_back(0)\n",
    "d.add_back(-3)\n",
    "d"
   ]
  },
  {
   "cell_type": "code",
   "execution_count": 228,
   "metadata": {},
   "outputs": [
    {
     "data": {
      "text/plain": [
       "0 3 5"
      ]
     },
     "execution_count": 228,
     "metadata": {},
     "output_type": "execute_result"
    }
   ],
   "source": [
    "d.remove_back()\n",
    "d"
   ]
  },
  {
   "cell_type": "code",
   "execution_count": 229,
   "metadata": {},
   "outputs": [
    {
     "data": {
      "text/plain": [
       "0 3"
      ]
     },
     "execution_count": 229,
     "metadata": {},
     "output_type": "execute_result"
    }
   ],
   "source": [
    "d.remove_front()\n",
    "d"
   ]
  },
  {
   "cell_type": "code",
   "execution_count": 230,
   "metadata": {},
   "outputs": [
    {
     "data": {
      "text/plain": [
       "3"
      ]
     },
     "execution_count": 230,
     "metadata": {},
     "output_type": "execute_result"
    }
   ],
   "source": [
    "d.peek_front()"
   ]
  },
  {
   "cell_type": "code",
   "execution_count": 231,
   "metadata": {},
   "outputs": [
    {
     "data": {
      "text/plain": [
       "0"
      ]
     },
     "execution_count": 231,
     "metadata": {},
     "output_type": "execute_result"
    }
   ],
   "source": [
    "d.peek_back()"
   ]
  },
  {
   "cell_type": "code",
   "execution_count": 232,
   "metadata": {},
   "outputs": [
    {
     "data": {
      "text/plain": [
       "0"
      ]
     },
     "execution_count": 232,
     "metadata": {},
     "output_type": "execute_result"
    }
   ],
   "source": [
    "d.remove_front()\n",
    "d"
   ]
  },
  {
   "cell_type": "code",
   "execution_count": 235,
   "metadata": {},
   "outputs": [
    {
     "name": "stdout",
     "output_type": "stream",
     "text": [
      "0\n"
     ]
    },
    {
     "data": {
      "text/plain": [
       "True"
      ]
     },
     "execution_count": 235,
     "metadata": {},
     "output_type": "execute_result"
    }
   ],
   "source": [
    "print(d.remove_front())\n",
    "d.is_empty()"
   ]
  },
  {
   "cell_type": "code",
   "execution_count": 237,
   "metadata": {},
   "outputs": [
    {
     "data": {
      "text/plain": [
       "The deque is empty!"
      ]
     },
     "execution_count": 237,
     "metadata": {},
     "output_type": "execute_result"
    }
   ],
   "source": [
    "d"
   ]
  },
  {
   "cell_type": "code",
   "execution_count": 238,
   "metadata": {},
   "outputs": [
    {
     "ename": "Empty",
     "evalue": "Deque is empty. Cannot remove",
     "output_type": "error",
     "traceback": [
      "\u001b[0;31m---------------------------------------------------------------------------\u001b[0m",
      "\u001b[0;31mEmpty\u001b[0m                                     Traceback (most recent call last)",
      "\u001b[0;32m<ipython-input-238-f3436abf80ef>\u001b[0m in \u001b[0;36m<module>\u001b[0;34m\u001b[0m\n\u001b[0;32m----> 1\u001b[0;31m \u001b[0md\u001b[0m\u001b[0;34m.\u001b[0m\u001b[0mremove_back\u001b[0m\u001b[0;34m(\u001b[0m\u001b[0;34m)\u001b[0m\u001b[0;34m\u001b[0m\u001b[0;34m\u001b[0m\u001b[0m\n\u001b[0m",
      "\u001b[0;32m<ipython-input-213-e72af3b636ce>\u001b[0m in \u001b[0;36mremove_back\u001b[0;34m(self)\u001b[0m\n\u001b[1;32m     42\u001b[0m     \u001b[0;32mdef\u001b[0m \u001b[0mremove_back\u001b[0m\u001b[0;34m(\u001b[0m\u001b[0mself\u001b[0m\u001b[0;34m)\u001b[0m\u001b[0;34m:\u001b[0m\u001b[0;34m\u001b[0m\u001b[0;34m\u001b[0m\u001b[0m\n\u001b[1;32m     43\u001b[0m         \u001b[0;32mif\u001b[0m \u001b[0mself\u001b[0m\u001b[0;34m.\u001b[0m\u001b[0mis_empty\u001b[0m\u001b[0;34m(\u001b[0m\u001b[0;34m)\u001b[0m\u001b[0;34m:\u001b[0m\u001b[0;34m\u001b[0m\u001b[0;34m\u001b[0m\u001b[0m\n\u001b[0;32m---> 44\u001b[0;31m             \u001b[0;32mraise\u001b[0m \u001b[0mEmpty\u001b[0m\u001b[0;34m(\u001b[0m\u001b[0;34m'Deque is empty. Cannot remove'\u001b[0m\u001b[0;34m)\u001b[0m\u001b[0;34m\u001b[0m\u001b[0;34m\u001b[0m\u001b[0m\n\u001b[0m\u001b[1;32m     45\u001b[0m         \u001b[0mdata\u001b[0m \u001b[0;34m=\u001b[0m \u001b[0mself\u001b[0m\u001b[0;34m.\u001b[0m\u001b[0mtail\u001b[0m\u001b[0;34m.\u001b[0m\u001b[0mdata\u001b[0m\u001b[0;34m\u001b[0m\u001b[0;34m\u001b[0m\u001b[0m\n\u001b[1;32m     46\u001b[0m         \u001b[0;32mif\u001b[0m \u001b[0mself\u001b[0m\u001b[0;34m.\u001b[0m\u001b[0mtail\u001b[0m \u001b[0;32mis\u001b[0m \u001b[0mself\u001b[0m\u001b[0;34m.\u001b[0m\u001b[0mhead\u001b[0m\u001b[0;34m:\u001b[0m\u001b[0;34m\u001b[0m\u001b[0;34m\u001b[0m\u001b[0m\n",
      "\u001b[0;31mEmpty\u001b[0m: Deque is empty. Cannot remove"
     ]
    }
   ],
   "source": [
    "d.remove_back()"
   ]
  }
 ],
 "metadata": {
  "kernelspec": {
   "display_name": "Python 3",
   "language": "python",
   "name": "python3"
  },
  "language_info": {
   "codemirror_mode": {
    "name": "ipython",
    "version": 3
   },
   "file_extension": ".py",
   "mimetype": "text/x-python",
   "name": "python",
   "nbconvert_exporter": "python",
   "pygments_lexer": "ipython3",
   "version": "3.7.3"
  }
 },
 "nbformat": 4,
 "nbformat_minor": 2
}
