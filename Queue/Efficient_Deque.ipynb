{
 "cells": [
  {
   "cell_type": "code",
   "execution_count": 1,
   "metadata": {},
   "outputs": [],
   "source": [
    "class Empty(Exception):\n",
    "    pass"
   ]
  },
  {
   "cell_type": "code",
   "execution_count": 2,
   "metadata": {},
   "outputs": [],
   "source": [
    "class Node:\n",
    "    def __init__(self, data):\n",
    "        self.data = data\n",
    "        self.next = None"
   ]
  },
  {
   "cell_type": "code",
   "execution_count": null,
   "metadata": {},
   "outputs": [],
   "source": [
    "class Deque:\n",
    "    def __init__(self):\n",
    "        self.head = None\n",
    "    \n",
    "    def add_front(self):\n",
    "        pass\n",
    "    \n",
    "    def add_back(self):\n",
    "        pass\n",
    "    \n",
    "    def remove_front(self):\n",
    "        pass\n",
    "    \n",
    "    def remove_back(self):\n",
    "        pass\n",
    "    \n",
    "    def peek_front(self):\n",
    "        pass\n",
    "    \n",
    "    def peek_back(self):\n",
    "        pass\n",
    "    \n",
    "    def __repr__(self):\n",
    "        pass"
   ]
  }
 ],
 "metadata": {
  "kernelspec": {
   "display_name": "Python 3",
   "language": "python",
   "name": "python3"
  },
  "language_info": {
   "codemirror_mode": {
    "name": "ipython",
    "version": 3
   },
   "file_extension": ".py",
   "mimetype": "text/x-python",
   "name": "python",
   "nbconvert_exporter": "python",
   "pygments_lexer": "ipython3",
   "version": "3.7.3"
  }
 },
 "nbformat": 4,
 "nbformat_minor": 2
}
