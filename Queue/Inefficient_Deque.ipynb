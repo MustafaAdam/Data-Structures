{
 "cells": [
  {
   "cell_type": "code",
   "execution_count": 1,
   "metadata": {},
   "outputs": [],
   "source": [
    "class Empty(Exception):\n",
    "    pass"
   ]
  },
  {
   "cell_type": "code",
   "execution_count": 14,
   "metadata": {},
   "outputs": [],
   "source": [
    "class DoubleEndedQueue:\n",
    "    \"\"\"A queue where the addition and removal of data can be done from both ends\n",
    "    The underlying representation of the queue will be a simple python list.\"\"\"\n",
    "    def __init__(self):\n",
    "        self.data_list = []\n",
    "        \n",
    "    def is_empty(self):\n",
    "        \"\"\"check if the queue is empty. Return True if empty, False otherwise\"\"\"\n",
    "        return not self.data_list\n",
    "    \n",
    "    def add_front(self, data):\n",
    "        \"\"\"add the item to the front of the queue\"\"\"\n",
    "        self.data_list.append(data)\n",
    "        \n",
    "    def add_back(self, data):\n",
    "        \"\"\"add the item to the back of the queue\n",
    "        This is an inefficient implementation as the worst case scenario is linear O(n)\"\"\"\n",
    "        self.data_list.insert(0, data)\n",
    "    \n",
    "    def remove_front(self):\n",
    "        \"\"\"remove the item at the front of the queue\"\"\"\n",
    "        if self.is_empty():\n",
    "            raise Empty('Queue is empty. Cannot remove')\n",
    "        data = self.data_list.pop()\n",
    "        return data\n",
    "    \n",
    "    def remove_back(self):\n",
    "        \"\"\"remove the item at the back of the queue\n",
    "        This is an inefficient implementation as the worst case scenario is linear O(n)\"\"\"\n",
    "        if self.is_empty():\n",
    "            raise Empty('Queue is empty. Cannot remove')\n",
    "        data = self.data_list.pop(0)\n",
    "        return data\n",
    "    \n",
    "    def peek_front(self):\n",
    "        \"\"\"return but do not remove the item at the front of the queue\"\"\"\n",
    "        if self.is_empty():\n",
    "            raise Empty('Queue is empty. Cannot peek')\n",
    "        return self.data_list[-1]\n",
    "    \n",
    "    def peek_back(self):\n",
    "        \"\"\"return but do not remove the item at the back of the queue\"\"\"\n",
    "        if self.is_empty():\n",
    "            raise Empty('Queue is empty. Cannot peek')\n",
    "        return self.data_listl[0]\n",
    "    \n",
    "    def __repr__(self):\n",
    "        return \" \".join([str(item) for item in self.data_list])"
   ]
  },
  {
   "cell_type": "code",
   "execution_count": 15,
   "metadata": {},
   "outputs": [
    {
     "data": {
      "text/plain": [
       "9 7 5 3"
      ]
     },
     "execution_count": 15,
     "metadata": {},
     "output_type": "execute_result"
    }
   ],
   "source": [
    "q = DoubleEndedQueue()\n",
    "q.add_front(5)\n",
    "q.add_front(3)\n",
    "q.add_back(7)\n",
    "q.add_back(9)\n",
    "q"
   ]
  },
  {
   "cell_type": "code",
   "execution_count": 16,
   "metadata": {},
   "outputs": [
    {
     "name": "stdout",
     "output_type": "stream",
     "text": [
      "3\n",
      "9\n"
     ]
    }
   ],
   "source": [
    "print(q.remove_front())\n",
    "print(q.remove_back())"
   ]
  },
  {
   "cell_type": "code",
   "execution_count": 18,
   "metadata": {},
   "outputs": [
    {
     "name": "stdout",
     "output_type": "stream",
     "text": [
      "True\n",
      "False\n"
     ]
    }
   ],
   "source": [
    "q = DoubleEndedQueue()\n",
    "print(q.is_empty())\n",
    "q.add_front(3)\n",
    "q.add_back(5)\n",
    "print(q.is_empty())"
   ]
  },
  {
   "cell_type": "code",
   "execution_count": null,
   "metadata": {},
   "outputs": [],
   "source": [
    "print(q.peek_)"
   ]
  }
 ],
 "metadata": {
  "kernelspec": {
   "display_name": "Python 3",
   "language": "python",
   "name": "python3"
  },
  "language_info": {
   "codemirror_mode": {
    "name": "ipython",
    "version": 3
   },
   "file_extension": ".py",
   "mimetype": "text/x-python",
   "name": "python",
   "nbconvert_exporter": "python",
   "pygments_lexer": "ipython3",
   "version": "3.7.3"
  }
 },
 "nbformat": 4,
 "nbformat_minor": 2
}
