{
 "cells": [
  {
   "cell_type": "code",
   "execution_count": 31,
   "metadata": {},
   "outputs": [],
   "source": [
    "class Empty(Exception):\n",
    "    pass"
   ]
  },
  {
   "cell_type": "code",
   "execution_count": 32,
   "metadata": {},
   "outputs": [],
   "source": [
    "class Node:\n",
    "    def __init__(self, data):\n",
    "        self.data = data\n",
    "        self.next_node = None\n",
    "        self.prev_node = None"
   ]
  },
  {
   "cell_type": "code",
   "execution_count": 33,
   "metadata": {},
   "outputs": [],
   "source": [
    "class Queue:\n",
    "    def __init__(self):\n",
    "        self.head = None\n",
    "        self.tail = None\n",
    "        self.length = 0\n",
    "    \n",
    "    def is_empty(self):\n",
    "        \"\"\" check if queue is empty. True if empty, False otherwise \"\"\"\n",
    "        return self.head == None and self.tail == None  # whie I like this because i find it more readable, comparison with the None object should be done with the is operator as per pep8 guidlines\n",
    "    \n",
    "    def add(self, data):\n",
    "        \"\"\" add an item to the back of the queue \"\"\"\n",
    "        node = Node(data)\n",
    "        if self.is_empty():\n",
    "            self.head = self.tail = node\n",
    "            self.length += 1\n",
    "            return\n",
    "        node.next_node = self.tail\n",
    "        self.tail.prev_node = node\n",
    "        self.tail = node\n",
    "        self.length += 1\n",
    "\n",
    "    def remove(self):\n",
    "        \"\"\" remove an item from the beginning of the queue \"\"\"\n",
    "        if self.is_empty():\n",
    "            raise Empty('Queue is empty. Cannot remove')\n",
    "        first_data = self.head.data\n",
    "        self.head = self.head.prev_node\n",
    "        if self.head is None:\n",
    "            self.tail = None\n",
    "        self.length -= 1\n",
    "        return first_data\n",
    "    \n",
    "    def peek(self):\n",
    "        \"\"\" return the current item at the top of the queue, without removing it \"\"\"\n",
    "        return self.head.data\n",
    "    \n",
    "    def __len__(self):\n",
    "        return self.length\n",
    "    \n",
    "    def __repr__(self):\n",
    "        \"\"\" machine readable string representation of the queue \"\"\"\n",
    "        data_list = []\n",
    "        current_node = self.tail\n",
    "        while current_node:\n",
    "            current_data = current_node.data\n",
    "            data_list.append(current_data)\n",
    "            current_node = current_node.next_node\n",
    "        return \" \".join([str(item) for item in data_list])"
   ]
  },
  {
   "cell_type": "code",
   "execution_count": 34,
   "metadata": {},
   "outputs": [
    {
     "name": "stdout",
     "output_type": "stream",
     "text": [
      "7 5 3\n",
      "3\n",
      "3 5 7\n"
     ]
    }
   ],
   "source": [
    "q = Queue()\n",
    "q.add(3)\n",
    "q.add(5)\n",
    "q.add(7)\n",
    "print(q)\n",
    "print(len(q))\n",
    "print(q.remove(), end=\" \")\n",
    "print(q.remove(), end=\" \")\n",
    "print(q.remove())"
   ]
  },
  {
   "cell_type": "code",
   "execution_count": 35,
   "metadata": {},
   "outputs": [
    {
     "name": "stdout",
     "output_type": "stream",
     "text": [
      "3\n",
      "5\n"
     ]
    }
   ],
   "source": [
    "q = Queue()\n",
    "q.add(3)\n",
    "q.add(5)\n",
    "q.add(7)\n",
    "print(q.peek())\n",
    "q.remove()\n",
    "print(q.peek())"
   ]
  },
  {
   "cell_type": "code",
   "execution_count": 36,
   "metadata": {},
   "outputs": [
    {
     "name": "stdout",
     "output_type": "stream",
     "text": [
      "True\n",
      "False\n"
     ]
    }
   ],
   "source": [
    "q = Queue()\n",
    "print(q.is_empty())\n",
    "q.add(3)\n",
    "q.add(5)\n",
    "print(q.is_empty())"
   ]
  },
  {
   "cell_type": "code",
   "execution_count": 37,
   "metadata": {},
   "outputs": [
    {
     "data": {
      "text/plain": [
       "3"
      ]
     },
     "execution_count": 37,
     "metadata": {},
     "output_type": "execute_result"
    }
   ],
   "source": [
    "q.remove()"
   ]
  },
  {
   "cell_type": "code",
   "execution_count": 38,
   "metadata": {},
   "outputs": [
    {
     "data": {
      "text/plain": [
       "5"
      ]
     },
     "execution_count": 38,
     "metadata": {},
     "output_type": "execute_result"
    }
   ],
   "source": [
    "q.remove()"
   ]
  }
 ],
 "metadata": {
  "kernelspec": {
   "display_name": "Python 3",
   "language": "python",
   "name": "python3"
  },
  "language_info": {
   "codemirror_mode": {
    "name": "ipython",
    "version": 3
   },
   "file_extension": ".py",
   "mimetype": "text/x-python",
   "name": "python",
   "nbconvert_exporter": "python",
   "pygments_lexer": "ipython3",
   "version": "3.7.3"
  }
 },
 "nbformat": 4,
 "nbformat_minor": 2
}
