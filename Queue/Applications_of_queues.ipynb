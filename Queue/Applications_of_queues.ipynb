{
 "cells": [
  {
   "cell_type": "markdown",
   "metadata": {},
   "source": [
    "#### 1. Use a queue to implement a stack"
   ]
  },
  {
   "cell_type": "code",
   "execution_count": 1,
   "metadata": {},
   "outputs": [],
   "source": [
    "from Queue import Empty, Queue"
   ]
  },
  {
   "cell_type": "code",
   "execution_count": 2,
   "metadata": {},
   "outputs": [],
   "source": [
    "class Stack:\n",
    "    \"\"\"A stack implementation using a queue as the underlying structure\"\"\"\n",
    "    def __init__(self):\n",
    "        self.stack = Queue()\n",
    "\n",
    "    def is_empty(self):\n",
    "        return self.stack.is_empty()\n",
    "    \n",
    "    def push(self, data):\n",
    "        \"\"\"add the item to the top of stack\"\"\"\n",
    "        self.stack.enqueue(data)\n",
    "        for _ in range(len(self.stack) - 1):  # The 1 accounts for the current added item.\n",
    "            current_front_item = self.stack.peek()\n",
    "            self.stack.enqueue(current_front_item)  # Adds all the previously added item to the queue, hence flipping the queue items and making them come after the current added item.\n",
    "            self.stack.dequeue()  #  Dequeue the item as it have been added back into the queue\n",
    "    \n",
    "    def pop(self):\n",
    "        \"\"\"pop the current item at the top of the stack\"\"\"\n",
    "        if self.stack.is_empty():\n",
    "            raise Empty('Stack is empty. Cannot pop!')\n",
    "        return self.stack.dequeue()\n",
    "\n",
    "    def __repr__(self):\n",
    "        return repr(self.stack)"
   ]
  },
  {
   "cell_type": "code",
   "execution_count": 3,
   "metadata": {},
   "outputs": [],
   "source": [
    "s = Stack()\n",
    "s.push(3)\n",
    "s.push(5)\n",
    "s.push(7)"
   ]
  },
  {
   "cell_type": "code",
   "execution_count": 4,
   "metadata": {},
   "outputs": [
    {
     "name": "stdout",
     "output_type": "stream",
     "text": [
      "7 5 3 "
     ]
    }
   ],
   "source": [
    "print(s.pop(), end=\" \")\n",
    "print(s.pop(), end=\" \")\n",
    "print(s.pop(), end=\" \")"
   ]
  },
  {
   "cell_type": "markdown",
   "metadata": {},
   "source": [
    "#### 2. Reversing the first k items in the queue"
   ]
  },
  {
   "cell_type": "code",
   "execution_count": 5,
   "metadata": {},
   "outputs": [],
   "source": [
    "odds = [number for number in range(20) if number % 2 != 0]"
   ]
  },
  {
   "cell_type": "code",
   "execution_count": 6,
   "metadata": {},
   "outputs": [
    {
     "name": "stdout",
     "output_type": "stream",
     "text": [
      "19 17 15 13 11 9 7 5 3 1\n"
     ]
    },
    {
     "data": {
      "text/plain": [
       "19 17 15 13 11 9 7 1 3 5"
      ]
     },
     "execution_count": 6,
     "metadata": {},
     "output_type": "execute_result"
    }
   ],
   "source": [
    "q = Queue()\n",
    "for number in odds:\n",
    "    q.enqueue(number)\n",
    "print(q)\n",
    "\n",
    "def reverse_first_k(k: int, queue: Queue):\n",
    "    \"\"\"revereses the first k items in the queue.\n",
    "    This mutates the original queue and empties it.\n",
    "    It returns a new queue with the first k items reversed.\n",
    "    \n",
    "    Uses an underlying stack data structure\"\"\"\n",
    "    stack = Stack()\n",
    "    for _ in range(k):\n",
    "        stack.push(queue.dequeue())\n",
    "    temp_queue = Queue()\n",
    "    while not stack.is_empty():\n",
    "        temp_queue.enqueue(stack.pop())\n",
    "    for _ in range(len(queue)):\n",
    "        temp_queue.enqueue(queue.dequeue())\n",
    "    return temp_queue\n",
    "\n",
    "reverse_first_k(3, q)"
   ]
  }
 ],
 "metadata": {
  "kernelspec": {
   "display_name": "Python 3",
   "language": "python",
   "name": "python3"
  },
  "language_info": {
   "codemirror_mode": {
    "name": "ipython",
    "version": 3
   },
   "file_extension": ".py",
   "mimetype": "text/x-python",
   "name": "python",
   "nbconvert_exporter": "python",
   "pygments_lexer": "ipython3",
   "version": "3.7.3"
  }
 },
 "nbformat": 4,
 "nbformat_minor": 2
}
